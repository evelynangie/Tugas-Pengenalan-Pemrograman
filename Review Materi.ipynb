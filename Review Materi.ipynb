{
 "cells": [
  {
   "attachments": {},
   "cell_type": "markdown",
   "id": "d8e05080-6f84-4897-a7bb-ec927a7b8500",
   "metadata": {
    "jp-MarkdownHeadingCollapsed": true
   },
   "source": [
    "# **Materi 1 - Variabel, Input Output, Tipe Data, dan Operator Python**"
   ]
  },
  {
   "cell_type": "markdown",
   "id": "89afb3b2-629f-471d-86f7-5fe4e8806d44",
   "metadata": {},
   "source": [
    "## **Hello World Python**\n",
    "Untuk mencetak di Python, cukup gunakan fungsi `print()`. Letakkan teks yang ingin dicetak di antara tanda kurung. Jika mencetak tipe data String, pastikan teksnya berada dalam tanda kutip. Kamu juga bisa menggunakan `print(f'...')` untuk menyisipkan variabel langsung dalam string."
   ]
  },
  {
   "cell_type": "code",
   "execution_count": 22,
   "id": "1c12ccb8-d724-4a02-bdbc-81597d5d140a",
   "metadata": {},
   "outputs": [
    {
     "name": "stdout",
     "output_type": "stream",
     "text": [
      "Hello World\n",
      "Hello World\n"
     ]
    }
   ],
   "source": [
    "print(\"Hello World\")\n",
    "print(f'Hello World')"
   ]
  },
  {
   "cell_type": "markdown",
   "id": "5497cc0b-e462-44a0-9634-d3b2d1bc5e39",
   "metadata": {},
   "source": [
    "**1. Pindah Baris Tanpa Mencetak Apa-apa**  \n",
    "Mencetak hanya sebuah spasi dan pindah ke baris baru tanpa menampilkan apa-apa."
   ]
  },
  {
   "cell_type": "code",
   "execution_count": 92,
   "id": "70d99c59-acb6-405d-acff-0680daca0b55",
   "metadata": {},
   "outputs": [
    {
     "name": "stdout",
     "output_type": "stream",
     "text": [
      " \n"
     ]
    }
   ],
   "source": [
    "print(\" \")"
   ]
  },
  {
   "cell_type": "markdown",
   "id": "1d894558-b71b-4567-a90a-e67f55ba5b5a",
   "metadata": {},
   "source": [
    "**2. Mencetak Tanpa Enter (Tanpa Pindah Baris)**  \n",
    "Mencetak nilai tanpa memindahkan kursor ke baris baru (dengan menggunakan `end=\" \"`)"
   ]
  },
  {
   "cell_type": "code",
   "execution_count": 94,
   "id": "a8014f2d-95b3-4a81-9afa-105d4e364cd2",
   "metadata": {},
   "outputs": [
    {
     "name": "stdout",
     "output_type": "stream",
     "text": [
      "Hello World\n"
     ]
    }
   ],
   "source": [
    "print(\"Hello\", end=\" \")\n",
    "print(\"World\")"
   ]
  },
  {
   "cell_type": "markdown",
   "id": "b4700c2a-a8dc-4526-a6da-0bfdf1b7c01f",
   "metadata": {},
   "source": [
    "**3. Mencetak dengan Enter (Memindah ke Baris Baru)**  \n",
    "Mencetak dengan menggunakan `(\\n)` setelah output."
   ]
  },
  {
   "cell_type": "code",
   "execution_count": 96,
   "id": "8bf0fd85-4bc6-45c2-b4a8-1fae5180ff76",
   "metadata": {},
   "outputs": [
    {
     "name": "stdout",
     "output_type": "stream",
     "text": [
      "Hello \n",
      "\n",
      "World\n"
     ]
    }
   ],
   "source": [
    "print(\"Hello\", \"\\n\")\n",
    "print(\"World\")"
   ]
  },
  {
   "cell_type": "markdown",
   "id": "e2d7d171-509f-4059-9469-fec607286d59",
   "metadata": {},
   "source": [
    "**4. Mencetak Hanya dengan Enter**  \n",
    "Cukup mencetak `(\\n)` untuk pindah ke baris baru tanpa menampilkan apapun."
   ]
  },
  {
   "cell_type": "code",
   "execution_count": 100,
   "id": "b3a2a7a5-305a-4401-b2a8-38467550873f",
   "metadata": {
    "scrolled": true
   },
   "outputs": [
    {
     "name": "stdout",
     "output_type": "stream",
     "text": [
      "\n",
      "\n"
     ]
    }
   ],
   "source": [
    "print(\"\\n\")"
   ]
  },
  {
   "cell_type": "markdown",
   "id": "df54828d-a2f0-4835-9031-ea174ac84272",
   "metadata": {},
   "source": [
    "**5. Mencetak dengan Tab**  \n",
    "Mencetak dengan menggunakan `(\\t)` untuk memberi jarak."
   ]
  },
  {
   "cell_type": "code",
   "execution_count": 98,
   "id": "32200e62-590b-4838-858f-edba8bd0e846",
   "metadata": {},
   "outputs": [
    {
     "name": "stdout",
     "output_type": "stream",
     "text": [
      "Nama:\tEvelyna\n",
      "Usia:\t18\n"
     ]
    }
   ],
   "source": [
    "print(\"Nama:\\tEvelyna\")\n",
    "print(\"Usia:\\t18\")"
   ]
  },
  {
   "cell_type": "markdown",
   "id": "1914595a-c23c-4f30-9e09-dfc7ffa72243",
   "metadata": {},
   "source": [
    "## **Komentar**\n",
    "Komentar adalah bagian dari kode yang tidak dieksekusi. Komentar digunakan untuk memberikan penjelasan atau keterangan tentang kode. \n",
    "1. **Komentar Tunggal**  \n",
    "   Komentar tunggal ditulis dengan menggunakan tanda pagar `#`\n",
    "2. **Komentar Multibaris**  \n",
    "   Komentar multi-baris ditulis dengan menggunakan tanda `\"\"\"` atau `'''` dan bisa mencakup lebih dari satu baris."
   ]
  },
  {
   "cell_type": "code",
   "execution_count": null,
   "id": "43664567-acf1-4782-b069-aba379047c3c",
   "metadata": {},
   "outputs": [],
   "source": [
    "# Ini adalah komentar tunggal\n",
    "nama = \"Budi\"  # Menyimpan nama dalam variabel\n",
    "\n",
    "# Ini adalah komentar multibaris\n",
    "\"\"\"\n",
    "Ini adalah komentar multi-baris\n",
    "yang dapat digunakan untuk menjelaskan\n",
    "lebih banyak hal dalam kode.\n",
    "\"\"\"\n",
    "\n",
    "'''\n",
    "Ini juga komentar multi-baris\n",
    "dengan tanda kutip satu.\n",
    "'''\n",
    "#Komentar tidak akan mengeluarkan output"
   ]
  },
  {
   "cell_type": "markdown",
   "id": "c3ae0ba2-961b-4661-aec3-6e412101c083",
   "metadata": {},
   "source": [
    "## **Variabel**\n",
    "Varaibel adalah tempat untuk menyimpan data dalam program.\n",
    "Berikut aturan penulisan variabel di Python:\n",
    "1. Dimulai dengan huruf atau garis bawah (_):  \n",
    "   Contoh: `nama`, `_umur`\n",
    "2. Hanya boleh menggunakan huruf, angka, dan garis bawah:  \n",
    "   Contoh: `total_nilai_1`\n",
    "3. Case-sensitive:  \n",
    "   `Nama` dan `nama` dianggap berbeda.\n",
    "4. Tidak boleh menggunakan kata kunci Python:  \n",
    "   Contoh: `if`, `for`, `def`\n",
    "5. Gunakan huruf kecil dan garis bawah:  \n",
    "   Contoh: `nama_depan`, `total_nilai`"
   ]
  },
  {
   "cell_type": "code",
   "execution_count": 36,
   "id": "8c887442-862b-4676-bc21-897daf49c134",
   "metadata": {},
   "outputs": [
    {
     "name": "stdout",
     "output_type": "stream",
     "text": [
      "Nama: Eve, Umur: 18\n",
      "Total harga: 150000\n",
      "Nama lengkap: Evelyna Angie\n",
      "Jumlah barang: 5\n"
     ]
    }
   ],
   "source": [
    "# 1. Variabel dimulai dengan huruf atau garis bawah\n",
    "nama = \"Eve\"\n",
    "_umur = 18\n",
    "\n",
    "# 2. Menggunakan huruf, angka, dan garis bawah\n",
    "total_harga_1 = 150000\n",
    "\n",
    "# 3. Variabel case-sensitive\n",
    "Nama = \"Evelyna\"  # Berbeda dari 'nama'\n",
    "\n",
    "# 4. Tidak menggunakan kata kunci Python\n",
    "kelas = \"Informatika\"\n",
    "\n",
    "# 5. Menggunakan huruf kecil dan garis bawah\n",
    "nama_belakang = \"Angie\"\n",
    "jumlah_barang = 5\n",
    "\n",
    "# Menampilkan output\n",
    "print(f\"Nama: {nama}, Umur: {_umur}\")\n",
    "print(f\"Total harga: {total_harga_1}\")\n",
    "print(f\"Nama lengkap: {Nama} {nama_belakang}\")\n",
    "print(f\"Jumlah barang: {jumlah_barang}\")"
   ]
  },
  {
   "cell_type": "markdown",
   "id": "db758c25-0278-46e4-be43-562f087d2fa7",
   "metadata": {},
   "source": [
    "## **Input**\n",
    "Fungsi `input()` digunakan untuk menerima input dari pengguna. Input dari pengguna selalu berupa string, jadi jika ingin mengubahnya menjadi tipe data lain, kita perlu melakukan konversi."
   ]
  },
  {
   "cell_type": "code",
   "execution_count": 52,
   "id": "b38ad77d-7a6b-4f7e-9906-aaa183fcd5a2",
   "metadata": {},
   "outputs": [
    {
     "name": "stdin",
     "output_type": "stream",
     "text": [
      "Masukkan nama:  Evelyna\n",
      "Masukkan umur:  18\n"
     ]
    }
   ],
   "source": [
    "# Meminta input dari pengguna\n",
    "nama = input(\"Masukkan nama: \")\n",
    "umur = int(input(\"Masukkan umur: \"))  # Mengkonversi input menjadi integer"
   ]
  },
  {
   "cell_type": "markdown",
   "id": "1150e1f1-cc99-4ced-85bc-4d8e5414974f",
   "metadata": {},
   "source": [
    "## **Output**\n",
    "Untuk menampilkan output di Python, kita bisa menggunakan fungsi `print()`"
   ]
  },
  {
   "cell_type": "code",
   "execution_count": 55,
   "id": "b3a9f5bb-3342-4ccb-a8fe-c4c963f152ca",
   "metadata": {},
   "outputs": [
    {
     "name": "stdout",
     "output_type": "stream",
     "text": [
      "Nama: Evelyna\n",
      "Umur: 18\n"
     ]
    }
   ],
   "source": [
    "# Menampilkan output\n",
    "print(\"Nama:\", nama)\n",
    "print(\"Umur:\", umur)"
   ]
  },
  {
   "cell_type": "markdown",
   "id": "71091332-47ef-418e-98a5-359c7e6b4f3f",
   "metadata": {},
   "source": [
    "## **Tipe Data**\n",
    "\n",
    "Tipe data yang sering digunakan di Python antara lain:\n",
    "\n",
    "1. **Integer**: Angka tanpa koma, contoh: `5`, `100`\n",
    "2. **Float**: Angka dengan koma, contoh: `3.14`, `0.5`\n",
    "3. **String**: Teks atau karakter, contoh: `\"Hello\"`, `'Budi'`\n",
    "4. **Boolean**: Nilai benar atau salah, contoh: `True`, `False`"
   ]
  },
  {
   "cell_type": "code",
   "execution_count": 78,
   "id": "c306e18d-0abb-4359-a1bb-e3885da65d79",
   "metadata": {},
   "outputs": [
    {
     "name": "stdout",
     "output_type": "stream",
     "text": [
      "Tipe data 10 adalah <class 'int'>\n",
      "Tipe data 3.14 adalah <class 'float'>\n",
      "Tipe data Evelyn adalah <class 'str'>\n",
      "Tipe data True adalah <class 'bool'>\n"
     ]
    }
   ],
   "source": [
    "# Tipe Data Integer\n",
    "a = 10\n",
    "b = 20\n",
    "print(\"Tipe data\", a, \"adalah\", type(a))\n",
    "\n",
    "# Tipe Data Float\n",
    "x = 3.14\n",
    "y = 2.5\n",
    "print(\"Tipe data\", x, \"adalah\", type(x))\n",
    "\n",
    "# Tipe Data String\n",
    "nama = \"Evelyn\" \n",
    "teks = 'Hello'\n",
    "print(\"Tipe data\", nama, \"adalah\", type(nama))\n",
    "\n",
    "# Tipe Data Boolean\n",
    "status_kelulusan = True\n",
    "print(\"Tipe data\", status_kelulusan, \"adalah\", type(status_kelulusan))"
   ]
  },
  {
   "cell_type": "markdown",
   "id": "3f1a18ab-9f46-4aa8-a8f6-d637c495a095",
   "metadata": {},
   "source": [
    "## **Operator Python**\n",
    "Operator digunakan untuk melakukan operasi pada variabel dan nilai."
   ]
  },
  {
   "cell_type": "markdown",
   "id": "1fa85702-fadb-461e-bb45-4e78168b9535",
   "metadata": {},
   "source": [
    "1. **Operator Aritmatika**\n",
    "Digunakan untuk melakukan operasi matematika."
   ]
  },
  {
   "cell_type": "markdown",
   "id": "0d2da11e-d36b-47bb-974e-f17a46577b2d",
   "metadata": {},
   "source": [
    "|Operator|Deskripsi| Contoh      |    Hasil    | \n",
    "|----------|-------|-------|------|\n",
    "|+        |  Penjumlahan |   5 + 3    |       8        |\n",
    "|-         | Pengurangan    |    5 - 3  |         2    |    \n",
    "|*         | Perkalian  |      5 * 3   |        15  |     \n",
    "|/         | Pembagian     |  5 / 2          | 2.5  |    \n",
    "|//        | Pembagian Bulat     | 5 // 2       |   2  |      \n",
    "|%         | Modulus (Sisa Bagi)   | 5 % 2         |  1  |      \n",
    "|**        | Pangkat    |  2 ** 3       |   8  |      \n"
   ]
  },
  {
   "cell_type": "code",
   "execution_count": null,
   "id": "40701ec8-2780-4026-8354-5f4f9a5787c3",
   "metadata": {},
   "outputs": [],
   "source": [
    "a = 10\n",
    "b = 5\n",
    "\n",
    "# Penjumlahan\n",
    "c = a + b  # 15\n",
    "\n",
    "# Pengurangan\n",
    "d = a - b  # 5\n",
    "\n",
    "# Perkalian\n",
    "e = a * b  # 50\n",
    "\n",
    "# Pembagian\n",
    "f = a / b  # 2.0\n",
    "\n",
    "# Pembagian bulat\n",
    "g = a // b  # 2\n",
    "\n",
    "# Sisa bagi\n",
    "h = a % b  # 0\n",
    "\n",
    "# Pangkat\n",
    "i = a ** b  # 100000\n"
   ]
  },
  {
   "cell_type": "markdown",
   "id": "befea69b-c84e-427b-b846-677e1253aae8",
   "metadata": {},
   "source": [
    "2. **Operator Perbandingan**\n",
    "Digunakan untuk membandingkan dua nilai."
   ]
  },
  {
   "cell_type": "markdown",
   "id": "64a797f1-dbeb-4e56-aba4-51a0c000f6d6",
   "metadata": {},
   "source": [
    "|Operator |  Deskripsi   |                   Contoh   |       Hasil   |\n",
    "|----|----|---|----|\n",
    "|==         |Sama dengan                   | 5 == 3         | False |   \n",
    "|!=         |Tidak sama dengan             | 5 != 3         | True  |   \n",
    "|>          |Lebih besar                   | 5 > 3          | True  |   \n",
    "|<         | Lebih kecil                   | 5 < 3          | False |   \n",
    "|>=        | Lebih besar atau sama         | 5 >= 5         | True  |   \n",
    "|<=        | Lebih kecil atau sama          |5 <= 3         | False |   "
   ]
  },
  {
   "cell_type": "code",
   "execution_count": null,
   "id": "545c5ffb-92f1-43df-94eb-3ac270d25f76",
   "metadata": {},
   "outputs": [],
   "source": [
    "a = 10\n",
    "b = 5\n",
    "\n",
    "# Sama dengan\n",
    "print(a == b)  # False\n",
    "\n",
    "# Tidak sama dengan\n",
    "print(a != b)  # True\n",
    "\n",
    "# Lebih besar dari\n",
    "print(a > b)  # True\n",
    "\n",
    "# Lebih kecil dari\n",
    "print(a < b)  # False\n",
    "\n",
    "# Lebih besar atau sama dengan\n",
    "print(a >= b)  # True\n",
    "\n",
    "# Lebih kecil atau sama dengan\n",
    "print(a <= b)  # False\n"
   ]
  },
  {
   "cell_type": "markdown",
   "id": "73a73deb-ce50-4cc5-ba0f-a7d6ff9e558a",
   "metadata": {},
   "source": [
    "3. **Operator Logika**\n",
    "Digunakan untuk operasi logika pada kondisi."
   ]
  },
  {
   "cell_type": "markdown",
   "id": "a310cfed-9a1c-4f6e-a7fb-095e29463a32",
   "metadata": {},
   "source": [
    "|Operator  | Deskripsi |                     Contoh   |       Hasil   |\n",
    "|----|----|---|---|\n",
    "|and       | Logika AND |                    True and False  |False    |\n",
    "|or        | Logika OR  |                    True or False   |True    | \n",
    "|not       | Logika NOT  |                   not True        |False   | "
   ]
  },
  {
   "cell_type": "code",
   "execution_count": null,
   "id": "e73b9b02-2d5b-4913-8001-ea11c3150cf4",
   "metadata": {},
   "outputs": [],
   "source": [
    "x = True\n",
    "y = False\n",
    "\n",
    "# AND (keduanya harus True)\n",
    "print(x and y)  # False\n",
    "\n",
    "# OR (salah satu harus True)\n",
    "print(x or y)  # True\n",
    "\n",
    "# NOT (membalik nilai boolean)\n",
    "print(not x)  # False\n"
   ]
  },
  {
   "cell_type": "markdown",
   "id": "606b64c0-0675-45e7-a636-e9807b1211ad",
   "metadata": {},
   "source": [
    "4. **Operator Penugasan**\n",
    "Digunakan untuk memberikan nilai pada variabel."
   ]
  },
  {
   "cell_type": "markdown",
   "id": "e3529a4a-4a87-4de6-8099-ff0503dfd1bb",
   "metadata": {},
   "source": [
    "|Operator  | Deskripsi |                     Contoh   |       Hasil   |\n",
    "|----|----|---|---|\n",
    "|=\t|Penugasan |x = 5|\tx = 5|\n",
    "|+=\t|Penugasan dengan penambahan| x += 5\t|x = x + 5|\n",
    "|-=\t|Penugasan dengan pengurangan| x -= 5\t|x = x - 5|\n",
    "|*=\t|Penugasan dengan perkalian |\tx *= 5\t|x = x * 5|\n",
    "|/=\t|Penugasan dengan pembagian|x /= 5\t|x = x / 5|\n",
    "|//=\t|Penugasan dengan pembagian bulat \t|x //= 5\t|x = x // 5|\n",
    "|%=\t|Penugasan dengan modulus \t|x %= 5\t|x = x % 5|\n",
    "|**=\t|Penugasan dengan eksponen| x **= 5\t|x = x ** 5|"
   ]
  },
  {
   "cell_type": "code",
   "execution_count": 66,
   "id": "1d6be80f-ff41-4641-848c-3b913bfbeae8",
   "metadata": {},
   "outputs": [],
   "source": [
    "a = 10\n",
    "a += 5  # a = a + 5 -> 15\n",
    "a -= 3  # a = a - 3 -> 12\n",
    "a *= 2  # a = a * 2 -> 24\n",
    "a /= 4  # a = a / 4 -> 6.0"
   ]
  },
  {
   "cell_type": "markdown",
   "id": "f4655ac9-e472-4665-bc07-53bfe3c3758d",
   "metadata": {
    "jp-MarkdownHeadingCollapsed": true
   },
   "source": [
    "# **Materi 2 - Ekspresi Persamaan Matematika**"
   ]
  },
  {
   "cell_type": "markdown",
   "id": "198dc32a-b464-4b04-886c-c9d7ac0e41a8",
   "metadata": {},
   "source": [
    "## **Ekspresi Matematika Sederhana**\n",
    "\n",
    "|Operator|Deskripsi| Contoh|\n",
    "|--------|----|-------|\n",
    "|+\t|Penambahan |x + y|\n",
    "|-\t|Pengurangan \t|x - y|\n",
    "|*\t|Perkalian \t|x * y|\n",
    "|/\t|Pembagian (division)\t|x / y|\n",
    "|%\t|Modulo - Sisa Pembagian \t|x % y (sisa pembagian of x / y)|\n",
    "|//\t|Pembagian dan dibulatkan ke bawah |x // y|\n",
    "|**\t|Eksponen - Pangkat \t|x ** y (x pangkat y)|\n",
    "\n",
    "**Contoh Penerapannya :**"
   ]
  },
  {
   "cell_type": "code",
   "execution_count": 49,
   "id": "813ffce5-360e-4612-8b68-feab6ad73ec9",
   "metadata": {},
   "outputs": [
    {
     "name": "stdout",
     "output_type": "stream",
     "text": [
      "Penjumlahan: 13\n",
      "Pengurangan: 7\n",
      "Perkalian: 30\n",
      "Pembagian: 3.3333333333333335\n",
      "Modulo: 1\n",
      "Pembagian dibulatkan ke bawah: 3\n",
      "Pangkat: 1000\n"
     ]
    }
   ],
   "source": [
    "# Ekspresi Matematika Sederhana\n",
    "a = 10\n",
    "b = 3\n",
    "\n",
    "penjumlahan = a + b\n",
    "pengurangan = a - b\n",
    "perkalian = a * b\n",
    "pembagian = a / b\n",
    "modulo = a % b\n",
    "pembagian_bawah = a // b\n",
    "pangkat = a ** b\n",
    "\n",
    "print(\"Penjumlahan:\", penjumlahan)  # Output: 13\n",
    "print(\"Pengurangan:\", pengurangan)  # Output: 7\n",
    "print(\"Perkalian:\", perkalian)      # Output: 30\n",
    "print(\"Pembagian:\", pembagian)      # Output: 3.3333...\n",
    "print(\"Modulo:\", modulo)            # Output: 1\n",
    "print(\"Pembagian dibulatkan ke bawah:\", pembagian_bawah)  # Output: 3\n",
    "print(\"Pangkat:\", pangkat)          # Output: 1000"
   ]
  },
  {
   "cell_type": "markdown",
   "id": "9ffaf201-7175-433b-8ed1-cd1ef79b6da2",
   "metadata": {},
   "source": [
    "## **Import Math**\n",
    "`import math` adalah perintah untuk mengakses **fungsi-fungsi matematika** di Python, seperti:  \n",
    "\n",
    "- `math.sqrt(x)` : Menghitung akar kuadrat.  \n",
    "- `math.pi` : Nilai π (pi).  \n",
    "- `math.sin(x)` : Sinus dari sudut x (radian).  \n",
    "- `math.log(x)` : Logaritma natural (basis e).  \n",
    "\n",
    "Dengan `import math`, kita bisa melakukan operasi matematika kompleks dengan mudah."
   ]
  },
  {
   "cell_type": "code",
   "execution_count": 47,
   "id": "509f8c8b-6969-439c-9a8b-8e1acf938dd9",
   "metadata": {},
   "outputs": [
    {
     "data": {
      "text/plain": [
       "5.0"
      ]
     },
     "execution_count": 47,
     "metadata": {},
     "output_type": "execute_result"
    }
   ],
   "source": [
    "#impor library math\n",
    "import math\n",
    "math.sqrt(25)"
   ]
  },
  {
   "cell_type": "markdown",
   "id": "26803649-de09-4839-9bbf-76117e4c85d6",
   "metadata": {},
   "source": [
    "## **Persamaan Kuadrat**\n",
    "Persamaan kuadrat berbentuk $ax^2 + bx + c = 0$. Kita dapat menghitung akarnya menggunakan rumus kuadrat:\n",
    "$$x = \\frac{-b \\pm \\sqrt{b^2 - 4ac}}{2a}$$"
   ]
  },
  {
   "cell_type": "code",
   "execution_count": 58,
   "id": "76983af5-b926-4c59-b4c8-67f88de6b4e2",
   "metadata": {},
   "outputs": [
    {
     "name": "stdout",
     "output_type": "stream",
     "text": [
      "Akar-akar persamaan adalah:\n",
      "x1 = 0.5\n",
      "x2 = -3.0\n"
     ]
    }
   ],
   "source": [
    "import math\n",
    "\n",
    "# Koefisien persamaan\n",
    "a = 2\n",
    "b = 5\n",
    "c = -3\n",
    "\n",
    "# Menghitung diskriminan\n",
    "D = b**2 - 4*a*c\n",
    "\n",
    "# Menghitung akar-akar persamaan\n",
    "x1 = (-b + math.sqrt(D)) / (2 * a)\n",
    "x2 = (-b - math.sqrt(D)) / (2 * a)\n",
    "\n",
    "print(\"Akar-akar persamaan adalah:\")\n",
    "print(\"x1 =\", x1)  # Output: 0.5\n",
    "print(\"x2 =\", x2)  # Output: -3.0"
   ]
  },
  {
   "cell_type": "markdown",
   "id": "53d50c19-8c28-4c09-86f5-7305dd9c6e89",
   "metadata": {},
   "source": [
    "## **Contoh Soal / Program**"
   ]
  },
  {
   "cell_type": "markdown",
   "id": "1c246206-6ada-48c7-b83c-d8e82cfee613",
   "metadata": {},
   "source": [
    "**1. Menghitung Luas Segitga**"
   ]
  },
  {
   "cell_type": "code",
   "execution_count": 70,
   "id": "9daaf171-425b-401e-b59d-471cc196b704",
   "metadata": {},
   "outputs": [
    {
     "name": "stdin",
     "output_type": "stream",
     "text": [
      "Panjang alas segitiga:  10\n",
      "Tinggi segitiga:  5\n"
     ]
    },
    {
     "name": "stdout",
     "output_type": "stream",
     "text": [
      "Luas segitiga adalah: 25.0\n"
     ]
    }
   ],
   "source": [
    "#Program Menghitung Luas Segitiga\n",
    "alas = float(input(\"Panjang alas segitiga: \"))\n",
    "tinggi = float(input(\"Tinggi segitiga: \"))\n",
    "\n",
    "luas = 0.5 * alas * tinggi\n",
    "\n",
    "print(\"Luas segitiga adalah:\", luas)"
   ]
  },
  {
   "cell_type": "markdown",
   "id": "b248c2dc-7c03-4eb7-820c-15f7ef18f7c1",
   "metadata": {},
   "source": [
    "**2. Program Konversi Celsius ke Fahrenheit**"
   ]
  },
  {
   "cell_type": "code",
   "execution_count": 73,
   "id": "bc989254-1120-4a94-a179-a9ee2f7b4f11",
   "metadata": {},
   "outputs": [
    {
     "name": "stdin",
     "output_type": "stream",
     "text": [
      "Suhu dalam Celsius:  75\n"
     ]
    },
    {
     "name": "stdout",
     "output_type": "stream",
     "text": [
      "75.0 derajat Celsius sama dengan 167.0 derajat Fahrenheit\n"
     ]
    }
   ],
   "source": [
    "celsius = float(input(\"Suhu dalam Celsius: \"))\n",
    "\n",
    "fahrenheit = (celsius * 9/5) + 32\n",
    "\n",
    "print(celsius, \"derajat Celsius sama dengan\", fahrenheit,\"derajat Fahrenheit\")"
   ]
  },
  {
   "cell_type": "markdown",
   "id": "9153ca9c-79a6-4c7d-bfbe-331eab8df764",
   "metadata": {},
   "source": [
    "**3. Program menghitung rata_rata hasil penjumlahan tiga angka**"
   ]
  },
  {
   "cell_type": "code",
   "execution_count": 81,
   "id": "fd33e6a2-cdf6-4c6a-8836-6c99a9a15f08",
   "metadata": {},
   "outputs": [
    {
     "name": "stdin",
     "output_type": "stream",
     "text": [
      "Angka pertama:  5\n",
      "Angka kedua:  10\n",
      "Angka ketiga:   15\n"
     ]
    },
    {
     "name": "stdout",
     "output_type": "stream",
     "text": [
      "Rata-rata penjumlahan tiga angka : 10.0\n"
     ]
    }
   ],
   "source": [
    "angka1 = float(input(\"Angka pertama: \"))\n",
    "angka2 = float(input(\"Angka kedua: \"))\n",
    "angka3 = float(input(\"Angka ketiga:  \"))\n",
    "\n",
    "rata_rata = (angka1 + angka2 + angka3) / 3\n",
    "\n",
    "print(\"Rata-rata penjumlahan tiga angka :\", rata_rata)"
   ]
  },
  {
   "cell_type": "markdown",
   "id": "a5392b22-54eb-4c12-b191-6d21fcd2489a",
   "metadata": {},
   "source": [
    "**4. Program menghitung keliling dan luas persegi**"
   ]
  },
  {
   "cell_type": "code",
   "execution_count": 79,
   "id": "072c648a-5c19-4f3f-a6e4-8e3f9a605609",
   "metadata": {},
   "outputs": [
    {
     "name": "stdin",
     "output_type": "stream",
     "text": [
      "Panjang sisi persegi:  5\n"
     ]
    },
    {
     "name": "stdout",
     "output_type": "stream",
     "text": [
      "Luas persegi adalah: 25.0\n",
      "Keliling persegi adalah: 20.0\n"
     ]
    }
   ],
   "source": [
    "sisi = float(input(\"Panjang sisi persegi: \"))\n",
    "\n",
    "luas = sisi * sisi\n",
    "keliling = 4 * sisi\n",
    "\n",
    "print(\"Luas persegi adalah:\", luas)\n",
    "print(\"Keliling persegi adalah:\", keliling)"
   ]
  },
  {
   "cell_type": "markdown",
   "id": "6f32fcac-5ea2-41b2-88bb-20c8110f9b1d",
   "metadata": {
    "jp-MarkdownHeadingCollapsed": true
   },
   "source": [
    "# **Materi 3 - Perulangan For-Loop**"
   ]
  },
  {
   "cell_type": "markdown",
   "id": "c9f284a3-ae78-4e47-a7ae-72f6b96c1465",
   "metadata": {},
   "source": [
    "## **Pengertian dan Dasar-dasar for Loop di Python**\n",
    "Perulangan atau **loop** adalah cara untuk menjalankan blok kode berulang kali. Salah satu perulangan yang sering digunakan di Python adalah `for` loop."
   ]
  },
  {
   "cell_type": "markdown",
   "id": "b3741879-bc45-4ccb-95d6-c20db9c9b9f2",
   "metadata": {},
   "source": [
    "## **Struktur Dasar for Loop**\n",
    "`for` loop digunakan untuk mengiterasi (mengulang) elemen dalam list, tuple, string, atau objek lainnya yang dapat diiterasi.\n",
    "\n",
    "1. `variabel`: akan menyimpan elemen saat iterasi.  \n",
    "2. `iterable`: objek yang bisa diiterasi, seperti list, range, string, dll."
   ]
  },
  {
   "cell_type": "code",
   "execution_count": null,
   "id": "03248514-5aeb-42a8-b9af-434b5c4f9718",
   "metadata": {},
   "outputs": [],
   "source": [
    "for variabel in iterable:\n",
    "    # blok kode yang akan diulang"
   ]
  },
  {
   "cell_type": "markdown",
   "id": "2ac74117-7e02-4c86-bd37-eeb9cf143680",
   "metadata": {},
   "source": [
    "## **Menggunakan `range()` dalam for Loop**\n",
    "Fungsi `range()` menghasilkan deret angka yang bisa digunakan dalam loop."
   ]
  },
  {
   "cell_type": "code",
   "execution_count": 119,
   "id": "2f6e08b9-bcc5-44aa-9eec-75c6cbb33522",
   "metadata": {},
   "outputs": [
    {
     "name": "stdout",
     "output_type": "stream",
     "text": [
      "Perulangan ke- 0\n",
      "Perulangan ke- 1\n",
      "Perulangan ke- 2\n",
      "Perulangan ke- 3\n",
      "Perulangan ke- 4\n"
     ]
    }
   ],
   "source": [
    "# Mengulangi angka dari 0 hingga 4\n",
    "for i in range(5):\n",
    "    print(\"Perulangan ke-\", i)\n",
    "# range(5) menghasilkan angka dari 0 hingga 4 (tidak termasuk 5)"
   ]
  },
  {
   "cell_type": "markdown",
   "id": "11bcf835-9769-4adf-a177-f88508df2d91",
   "metadata": {},
   "source": [
    "## **Perulangan dengan Langkah `(step)`**\n",
    "Kita dapat menambahkan parameter start, stop, dan step pada `range()`."
   ]
  },
  {
   "cell_type": "code",
   "execution_count": 126,
   "id": "0a28f523-6123-4659-a9cc-22c0265bb82a",
   "metadata": {},
   "outputs": [
    {
     "name": "stdout",
     "output_type": "stream",
     "text": [
      "Angka : 1\n",
      "Angka : 3\n",
      "Angka : 5\n",
      "Angka : 7\n",
      "Angka : 9\n"
     ]
    }
   ],
   "source": [
    "for i in range(1, 10, 2):  # mulai dari 1, hingga 9, loncatan 2\n",
    "    print(\"Angka :\", i)"
   ]
  },
  {
   "cell_type": "markdown",
   "id": "63bd6756-0967-47db-b973-6da6971aa7c2",
   "metadata": {},
   "source": [
    "## **Mengiterasi List atau String**\n",
    "`for` loop dapat digunakan untuk mengiterasi elemen dalam list atau string."
   ]
  },
  {
   "cell_type": "code",
   "execution_count": 131,
   "id": "85064e2a-da3e-43f9-9dea-6fb5d2a7df31",
   "metadata": {},
   "outputs": [
    {
     "name": "stdout",
     "output_type": "stream",
     "text": [
      "Buah: apel\n",
      "Buah: jeruk\n",
      "Buah: mangga\n"
     ]
    }
   ],
   "source": [
    "buah = [\"apel\", \"jeruk\", \"mangga\"]\n",
    "\n",
    "for b in buah:\n",
    "    print(\"Buah:\", b)"
   ]
  },
  {
   "cell_type": "code",
   "execution_count": 137,
   "id": "11bac043-74fd-4b1a-a5a9-d978a0a8da60",
   "metadata": {},
   "outputs": [
    {
     "name": "stdout",
     "output_type": "stream",
     "text": [
      "Huruf: M\n",
      "Huruf: a\n",
      "Huruf: n\n",
      "Huruf: g\n",
      "Huruf: g\n",
      "Huruf: a\n"
     ]
    }
   ],
   "source": [
    "kata = \"Mangga\"\n",
    "\n",
    "for huruf in kata:\n",
    "    print(\"Huruf:\", huruf)"
   ]
  },
  {
   "cell_type": "markdown",
   "id": "1806346e-a737-4423-935e-cf776002429d",
   "metadata": {},
   "source": [
    "## **`for` Loop dengan `else`**\n",
    "Di Python, `else` dalam `for` loop akan dieksekusi jika semua iterasi selesai tanpa `break`."
   ]
  },
  {
   "cell_type": "code",
   "execution_count": 146,
   "id": "ff3208da-2d27-4fb9-972f-e86cded33488",
   "metadata": {},
   "outputs": [
    {
     "name": "stdout",
     "output_type": "stream",
     "text": [
      "1\n",
      "2\n",
      "3\n",
      "The for loop is over\n",
      "Done!\n"
     ]
    }
   ],
   "source": [
    "for i in range(1,4):\n",
    "    print(i)\n",
    "else:\n",
    "    print(\"The for loop is over\")\n",
    "    print(\"Done!\")"
   ]
  },
  {
   "cell_type": "markdown",
   "id": "3c16cd13-67cd-4a60-a899-bb3f29eae678",
   "metadata": {},
   "source": [
    "## **Menghentikan Perulangan dengan break dan continue**\n",
    "- `break`: Menghentikan loop sepenuhnya.\n",
    "- `continue`: Melewati iterasi saat ini dan lanjut ke iterasi berikutnya"
   ]
  },
  {
   "cell_type": "code",
   "execution_count": 150,
   "id": "9d93e0fe-6063-44b0-9045-eeaa2923454a",
   "metadata": {},
   "outputs": [
    {
     "name": "stdout",
     "output_type": "stream",
     "text": [
      "Angka: 0\n",
      "Angka: 1\n",
      "Angka: 2\n"
     ]
    }
   ],
   "source": [
    "# Contoh Pengunaan break\n",
    "for i in range(5):\n",
    "    if i == 3:\n",
    "        break\n",
    "    print(\"Angka:\", i)\n",
    "# Pada i == 3, loop berhenti"
   ]
  },
  {
   "cell_type": "code",
   "execution_count": 154,
   "id": "f75c04f0-20ca-4d94-8bac-57777b56074e",
   "metadata": {},
   "outputs": [
    {
     "name": "stdout",
     "output_type": "stream",
     "text": [
      "Angka: 0\n",
      "Angka: 1\n",
      "Angka: 3\n",
      "Angka: 4\n"
     ]
    }
   ],
   "source": [
    "# Contoh Pengunaan continue\n",
    "for i in range(5):\n",
    "    if i == 2:\n",
    "        continue\n",
    "    print(\"Angka:\", i)\n",
    "# Pada i==3, iterasi dilewati"
   ]
  },
  {
   "cell_type": "markdown",
   "id": "d2515f46-3a75-404e-8b1d-fc74a37a5afc",
   "metadata": {},
   "source": [
    "## **Menggunakan List, `append()`, dan `len()` dalam `for` Loop**\n",
    "- List: Struktur data yang menyimpan kumpulan elemen\n",
    "- `append()`: Menambahkan elemen ke akhir list.\n",
    "- `len()`: Mengembalikan jumlah elemen dalam list.  "
   ]
  },
  {
   "cell_type": "code",
   "execution_count": 159,
   "id": "e255caf9-8e53-445f-aaa0-94431bf0e0c3",
   "metadata": {},
   "outputs": [
    {
     "name": "stdout",
     "output_type": "stream",
     "text": [
      "List angka: [1, 2, 3, 4, 5]\n",
      "Panjang list: 5\n"
     ]
    }
   ],
   "source": [
    "# Membuat list kosong\n",
    "angka = []\n",
    "\n",
    "# Menambahkan angka 1 hingga 5 ke dalam list menggunakan for loop\n",
    "for i in range(1, 6):\n",
    "    angka.append(i)  # Menambahkan elemen ke list dengan append()\n",
    "\n",
    "# Menampilkan list angka yang telah diisi\n",
    "print(\"List angka:\", angka)       \n",
    "\n",
    "# Menampilkan jumlah elemen dalam list menggunakan len()\n",
    "print(\"Panjang list:\", len(angka))  "
   ]
  },
  {
   "cell_type": "markdown",
   "id": "e8633e36-48fd-427e-b044-aec1cca024a8",
   "metadata": {},
   "source": [
    "## **`while` Loop**\n",
    "Digunakan untuk mengulang selama kondisi bernilai True."
   ]
  },
  {
   "cell_type": "code",
   "execution_count": 206,
   "id": "a2d764cd-fb2c-4827-ba94-e47c01c766de",
   "metadata": {},
   "outputs": [
    {
     "name": "stdout",
     "output_type": "stream",
     "text": [
      "Angka : 0\n",
      "Angka : 1\n",
      "Angka : 2\n",
      "Angka : 3\n",
      "Angka : 4\n"
     ]
    }
   ],
   "source": [
    "i = 0\n",
    "while i < 5:\n",
    "    print(\"Angka :\", i)\n",
    "    i += 1"
   ]
  },
  {
   "cell_type": "markdown",
   "id": "1fd5936e-85af-4756-a250-609f1c44f72d",
   "metadata": {},
   "source": [
    "## **Perulangan `repeat` dengan `while True`**\n",
    "Python tidak memiliki perintah `repeat...until`, tapi kita bisa menggunakan `while True` dengan `break`."
   ]
  },
  {
   "cell_type": "code",
   "execution_count": 211,
   "id": "199a91c2-7e30-4310-9949-5c3380affa85",
   "metadata": {},
   "outputs": [
    {
     "name": "stdout",
     "output_type": "stream",
     "text": [
      "Angka: 0\n",
      "Angka: 1\n",
      "Angka: 2\n",
      "Angka: 3\n",
      "Angka: 4\n"
     ]
    }
   ],
   "source": [
    "i = 0\n",
    "while True:\n",
    "    print(\"Angka:\", i)\n",
    "    i += 1\n",
    "    if i >= 5:\n",
    "        break"
   ]
  },
  {
   "cell_type": "markdown",
   "id": "f884e91f-912e-409e-a500-a42241f8024f",
   "metadata": {},
   "source": [
    "## **Contoh Soal / Program**"
   ]
  },
  {
   "cell_type": "markdown",
   "id": "c663318d-d4db-4826-8587-4aca49182de5",
   "metadata": {},
   "source": [
    "**1. Program Membuat Segitiga**"
   ]
  },
  {
   "cell_type": "code",
   "execution_count": 168,
   "id": "806da39b-27eb-406f-bf15-37cbee50e3d9",
   "metadata": {},
   "outputs": [
    {
     "name": "stdin",
     "output_type": "stream",
     "text": [
      "Masukkan jumlah baris:  5\n"
     ]
    },
    {
     "name": "stdout",
     "output_type": "stream",
     "text": [
      "    * \n",
      "   * * \n",
      "  * * * \n",
      " * * * * \n",
      "* * * * * \n"
     ]
    }
   ],
   "source": [
    "baris = int(input('Masukkan jumlah baris: '))\n",
    "for i in range(1,baris+1):\n",
    "    for j in range(baris-i):\n",
    "        print('',end=' ')\n",
    "    for j in range(0,i):\n",
    "        print('*',end=' ')\n",
    "    print()"
   ]
  },
  {
   "cell_type": "code",
   "execution_count": 181,
   "id": "4e2d1ca1-6238-4b81-9b68-d572c9426208",
   "metadata": {},
   "outputs": [
    {
     "name": "stdin",
     "output_type": "stream",
     "text": [
      "Masukkan jumlah baris:  7\n"
     ]
    },
    {
     "name": "stdout",
     "output_type": "stream",
     "text": [
      "\n",
      "* \n",
      "* * \n",
      "* * * \n",
      "* * * * \n",
      "* * * * * \n",
      "* * * * * * \n"
     ]
    }
   ],
   "source": [
    "baris = int(input('Masukkan jumlah baris: '))\n",
    "for i in range(baris):\n",
    "    for j in range(i):\n",
    "        print(\"*\", end=' ')\n",
    "    print()"
   ]
  },
  {
   "cell_type": "markdown",
   "id": "da1c05ef-ff4a-4292-9c90-500006da94e2",
   "metadata": {},
   "source": [
    "**2. Program Segitiga Angka**"
   ]
  },
  {
   "cell_type": "code",
   "execution_count": 190,
   "id": "71198a8f-ff18-4599-ad75-ab92ab78c3d7",
   "metadata": {},
   "outputs": [
    {
     "name": "stdout",
     "output_type": "stream",
     "text": [
      "\n",
      "1 \n",
      "1 2 \n",
      "1 2 3 \n",
      "1 2 3 4 \n",
      "1 2 3 4 5 \n"
     ]
    }
   ],
   "source": [
    "for i in range(6):\n",
    "    for j in range(1, i+1):\n",
    "        print(j, end=' ')\n",
    "    print()"
   ]
  },
  {
   "cell_type": "code",
   "execution_count": 192,
   "id": "0a3f5ac2-2ea9-4795-a6f0-101accb0da6a",
   "metadata": {},
   "outputs": [
    {
     "name": "stdout",
     "output_type": "stream",
     "text": [
      "\n",
      "1 \n",
      "2 3 \n",
      "4 5 6 \n",
      "7 8 9 10 \n",
      "11 12 13 14 15 \n"
     ]
    }
   ],
   "source": [
    "angka = 1\n",
    "for i in range(6):\n",
    "    for j in range(i):\n",
    "        print(angka, end=' ')\n",
    "        angka += 1\n",
    "    print()"
   ]
  },
  {
   "cell_type": "markdown",
   "id": "deefcf5a-4510-41a3-a384-30aaa228acac",
   "metadata": {},
   "source": [
    "**Program Menghitung Rata-rata**"
   ]
  },
  {
   "cell_type": "code",
   "execution_count": 218,
   "id": "0a4cf51d-97d5-469d-8747-a10db63f381a",
   "metadata": {},
   "outputs": [
    {
     "name": "stdin",
     "output_type": "stream",
     "text": [
      "Jumlah data : 3\n",
      "Masukkan data:  5\n",
      "Masukkan data:  10\n",
      "Masukkan data:  15\n"
     ]
    },
    {
     "name": "stdout",
     "output_type": "stream",
     "text": [
      "Rata_rata : 10.0\n"
     ]
    }
   ],
   "source": [
    "jumlah_data = int(input(\"Jumlah data :\"))\n",
    "data_list = []\n",
    "for i in range(jumlah_data):\n",
    "    data = float(input(\"Masukkan data: \"))\n",
    "    data_list.append(data)\n",
    "total = 0\n",
    "for angka in data_list:\n",
    "    total += angka\n",
    "rata_rata = total / jumlah_data\n",
    "\n",
    "print(\"Rata_rata :\", rata_rata)"
   ]
  },
  {
   "cell_type": "markdown",
   "id": "5f4c391b-b92b-4b37-a840-d874c19fd555",
   "metadata": {},
   "source": [
    "**Program Menghitung Varians**"
   ]
  },
  {
   "cell_type": "code",
   "execution_count": 227,
   "id": "2b1d6ed4-5753-4c53-a8fd-9671397aa2e0",
   "metadata": {},
   "outputs": [
    {
     "name": "stdin",
     "output_type": "stream",
     "text": [
      "Masukkan jumlah data :  3\n",
      "Masukkan data :  5\n",
      "Masukkan data :  10\n",
      "Masukkan data :  15\n"
     ]
    },
    {
     "name": "stdout",
     "output_type": "stream",
     "text": [
      "Varians = 16.666666666666668\n"
     ]
    }
   ],
   "source": [
    "jumlah_data = int(input(\"Masukkan jumlah data : \"))\n",
    "data = [int(input(\"Masukkan data : \")) for _ in range(jumlah_data)]\n",
    "jumlah = 0\n",
    "for i in data:\n",
    "    jumlah += i\n",
    "\n",
    "rata_rata = jumlah/jumlah_data\n",
    "varians = sum((x-rata_rata)**2 for x in data) / (jumlah_data )\n",
    "print(\"Varians =\", varians)   "
   ]
  },
  {
   "cell_type": "markdown",
   "id": "96768173-2e47-400d-a122-66f8ea2388c0",
   "metadata": {
    "jp-MarkdownHeadingCollapsed": true
   },
   "source": [
    "# **Materi 4 - Percabangan**"
   ]
  },
  {
   "cell_type": "markdown",
   "id": "8a2d2018-00d1-4636-96ec-348def0c267c",
   "metadata": {},
   "source": [
    "## **Percabangan `if`**\n",
    "Dalam fungsi `if`, program hanya akan menjalankan pernyataan jika ekspresi yang diuji bernilai `True`. Sebaliknya, jika hasil pengujian bernilai `False`, pernyataan tersebut tidak akan dijalankan."
   ]
  },
  {
   "cell_type": "markdown",
   "id": "ad29bf74-95cd-4864-918c-0a175fe806c6",
   "metadata": {},
   "source": [
    "## **Percabangan `elif`**\n",
    "`elif` adalah singkatan dari `else if`, yang memungkinkan kita untuk memeriksa beberapa kondisi secara berurutan. Jika kondisi pada `if` bernilai False, maka program akan memeriksa kondisi pada `elif` berikutnya. Jika semua kondisi `elif` juga salah, maka pernyataan pada `else` yang akan dijalankan."
   ]
  },
  {
   "cell_type": "markdown",
   "id": "65ea07a9-6b38-4714-8bf3-2d0018c1014d",
   "metadata": {},
   "source": [
    "## **Percabangan `else`**\n",
    "`else` adalah bagian dari percabangan yang digunakan untuk menangani situasi ketika semua kondisi sebelumnya (pada `if` atau `elif`) bernilai False. Blok kode dalam `else` akan dijalankan jika tidak ada kondisi yang terpenuhi."
   ]
  },
  {
   "cell_type": "code",
   "execution_count": 16,
   "id": "b2f5bb1c-b510-4489-87fd-19f35dbe2b9d",
   "metadata": {},
   "outputs": [
    {
     "name": "stdin",
     "output_type": "stream",
     "text": [
      "Masukkan sebuah angka:  10\n"
     ]
    },
    {
     "name": "stdout",
     "output_type": "stream",
     "text": [
      "Angka positif\n"
     ]
    }
   ],
   "source": [
    "angka = int(input(\"Masukkan sebuah angka: \"))\n",
    "\n",
    "if angka > 0:\n",
    "    print(\"Angka positif\")\n",
    "elif angka < 0:\n",
    "    print(\"Angka negatif\")\n",
    "else:\n",
    "    print(\"Angka nol\")"
   ]
  },
  {
   "cell_type": "markdown",
   "id": "00e5c7e5-f39b-404a-b447-3e568b166825",
   "metadata": {},
   "source": [
    "## **Nested `if`**\n",
    "**Nested if** adalah penggunaan pernyataan `if` di dalam pernyataan `if` lainnya. Ini memungkinkan kita untuk memeriksa kondisi lebih lanjut setelah kondisi pertama terpenuhi. Dengan nested `if`, kita dapat membuat logika yang lebih kompleks dengan memeriksa beberapa tingkat kondisi."
   ]
  },
  {
   "cell_type": "code",
   "execution_count": 21,
   "id": "2670840a-70c1-49a6-ad56-8c1b8229f1dc",
   "metadata": {},
   "outputs": [
    {
     "name": "stdin",
     "output_type": "stream",
     "text": [
      "Masukkan usia:  18\n"
     ]
    },
    {
     "name": "stdout",
     "output_type": "stream",
     "text": [
      "Dewasa\n",
      "Kategori: Dewasa Muda\n"
     ]
    }
   ],
   "source": [
    "usia = int(input(\"Masukkan usia: \"))\n",
    "\n",
    "if usia >= 18:\n",
    "    print(\"Dewasa\")\n",
    "    if usia >= 65:\n",
    "        print(\"Kategori: Lansia\")\n",
    "    else:\n",
    "        print(\"Kategori: Dewasa Muda\")\n",
    "else:\n",
    "    print(\"Anak-anak\")"
   ]
  },
  {
   "cell_type": "markdown",
   "id": "520c9bd3-bf17-4691-82e0-2638dc711766",
   "metadata": {},
   "source": [
    "## **Contoh Soal / Program**"
   ]
  },
  {
   "cell_type": "markdown",
   "id": "a0f2480f-20b1-4f41-b9bd-09d1064addcf",
   "metadata": {},
   "source": [
    "**1. Program Menentukan Bilangan Ganjil / Genap**"
   ]
  },
  {
   "cell_type": "code",
   "execution_count": 26,
   "id": "5c7407f4-2468-4d82-b115-7d3d08494294",
   "metadata": {},
   "outputs": [
    {
     "name": "stdin",
     "output_type": "stream",
     "text": [
      "Masukkan bilangan :  45\n"
     ]
    },
    {
     "name": "stdout",
     "output_type": "stream",
     "text": [
      "45 adalah bilangan ganjil\n"
     ]
    }
   ],
   "source": [
    "bilangan = int(input(\"Masukkan bilangan : \"))\n",
    "if bilangan % 2 == 0:\n",
    "    print(bilangan, \"adalah bilangan genap\")\n",
    "else:\n",
    "    print(bilangan, \"adalah bilangan ganjil\")"
   ]
  },
  {
   "cell_type": "markdown",
   "id": "ee84ecc4-b075-4986-bbae-efe5e0600863",
   "metadata": {},
   "source": [
    "**2. Program Menentukan Bilangan Terbesar**"
   ]
  },
  {
   "cell_type": "code",
   "execution_count": 32,
   "id": "c6cb4c7d-ae7f-4da3-9d7c-6a5d2305a6f2",
   "metadata": {},
   "outputs": [
    {
     "name": "stdin",
     "output_type": "stream",
     "text": [
      "Masukkan bilangan :  4\n",
      "Masukkan bilangan :  5\n"
     ]
    },
    {
     "name": "stdout",
     "output_type": "stream",
     "text": [
      "5 adalah bilangan terbesar\n"
     ]
    }
   ],
   "source": [
    "x = int(input(\"Masukkan bilangan : \"))\n",
    "y = int(input(\"Masukkan bilangan : \"))\n",
    "if x > y:\n",
    "    print(x, \"adalah bilangan terbesar\")\n",
    "else :\n",
    "    print(y, \"adalah bilangan terbesar\")"
   ]
  },
  {
   "cell_type": "markdown",
   "id": "dc95b1e3-c514-41ac-8e8d-53433552a7b1",
   "metadata": {},
   "source": [
    "**3. Program Menentukan Grade Nilai**"
   ]
  },
  {
   "cell_type": "code",
   "execution_count": 37,
   "id": "762aa0f5-e410-4379-b776-9981355db8cc",
   "metadata": {},
   "outputs": [
    {
     "name": "stdin",
     "output_type": "stream",
     "text": [
      "Masukkan nilai :  80\n"
     ]
    },
    {
     "name": "stdout",
     "output_type": "stream",
     "text": [
      "Grade nilai Anda adalah B+\n"
     ]
    }
   ],
   "source": [
    "nilai = int(input(\"Masukkan nilai : \"))\n",
    "if nilai >= 90 and nilai <= 100:\n",
    "    grade = \"A\"\n",
    "elif nilai >= 80 and nilai < 90:\n",
    "    grade = \"B+\"\n",
    "elif nilai >= 70 and nilai < 80:\n",
    "    grade = \"B\"\n",
    "elif nilai >= 60 and nilai < 70:\n",
    "    grade = \"C+\"\n",
    "elif nilai >= 50 and nilai < 60:\n",
    "    grade = \"C\"\n",
    "elif nilai >= 40 and nilai < 50:\n",
    "    grade = \"D\"\n",
    "else:\n",
    "    grade = \"E\"\n",
    "print(\"Grade nilai Anda adalah\", grade)"
   ]
  },
  {
   "cell_type": "markdown",
   "id": "ae15e5f3-61eb-453c-93bb-381918cd7775",
   "metadata": {},
   "source": [
    "**4. Program Menentukan Presentase Kehadiran dan Evaluasi**"
   ]
  },
  {
   "cell_type": "code",
   "execution_count": 45,
   "id": "bbb47f33-94c8-4267-9c60-3a49dffa35d3",
   "metadata": {},
   "outputs": [
    {
     "name": "stdin",
     "output_type": "stream",
     "text": [
      "Masukan nilai Anda :  85\n",
      "Masukkan jumlah kehadiran : 14\n",
      "Masukkan jumlah pertemuan : 16\n"
     ]
    },
    {
     "name": "stdout",
     "output_type": "stream",
     "text": [
      "Kehadiran Anda: 87.5 %\n",
      "Evaluasi Anda :  Memuaskan\n"
     ]
    }
   ],
   "source": [
    "nilai = int(input(\"Masukan nilai Anda : \"))\n",
    "x = int(input(\"Masukkan jumlah kehadiran :\"))\n",
    "pertemuan = int(input(\"Masukkan jumlah pertemuan :\"))\n",
    "kehadiran = (x/pertemuan)*100\n",
    "print(\"Kehadiran Anda:\", kehadiran, \"%\")\n",
    "if nilai > 80:\n",
    "    if kehadiran > 90:\n",
    "        evaluasi = \"Sangat memuaskan\"\n",
    "    if 75 <= kehadiran <= 90:\n",
    "            evaluasi = \"Memuaskan\"\n",
    "    if kehadiran < 75:\n",
    "                evaluasi = \"Cukup\"\n",
    "elif 60 <= nilai <= 80:\n",
    "    if kehadiran > 75:\n",
    "        evaluasi = \"Cukup\"\n",
    "    if kehadiran <= 75:\n",
    "            evaluasi = \"Perlu perbaikan\"\n",
    "else:\n",
    "    print(\"Tidak lulus\")\n",
    "print(\"Evaluasi Anda : \", evaluasi)"
   ]
  }
 ],
 "metadata": {
  "kernelspec": {
   "display_name": "Python 3 (ipykernel)",
   "language": "python",
   "name": "python3"
  },
  "language_info": {
   "codemirror_mode": {
    "name": "ipython",
    "version": 3
   },
   "file_extension": ".py",
   "mimetype": "text/x-python",
   "name": "python",
   "nbconvert_exporter": "python",
   "pygments_lexer": "ipython3",
   "version": "3.12.4"
  }
 },
 "nbformat": 4,
 "nbformat_minor": 5
}
